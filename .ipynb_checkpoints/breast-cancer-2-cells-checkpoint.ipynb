{
 "cells": [
  {
   "cell_type": "markdown",
   "id": "3c377eef-5174-480d-bb37-3cff4df4feeb",
   "metadata": {},
   "source": [
    "<h1 style='font-size:40px'> Cancer Cell Detector Fed With 2 Instances</h1>"
   ]
  },
  {
   "cell_type": "markdown",
   "id": "feb047be-e461-4edc-800a-6237a3422147",
   "metadata": {},
   "source": [
    "<div> \n",
    "    <ul style='font-size:20px'> \n",
    "        <li> \n",
    "            This project is a personal challenge in which I proposed the creation of a breast cancer cell identifier with data from only two cells.\n",
    "        </li>\n",
    "        <li> \n",
    "            The data points extraction was performed with K-Means; the classes' representative instances were the ones closest to the clusters' centroids. In the end of the process, we've got a malign and benign cells that fed our models.\n",
    "        </li>\n",
    "    </ul>\n",
    "</div>"
   ]
  },
  {
   "cell_type": "markdown",
   "id": "9b59fe74-29c1-4024-bc3f-4aa3d56643e2",
   "metadata": {
    "tags": []
   },
   "source": [
    "<h2 style='font-size:30px'>Loading and Segregating the Dataset </h2>\n",
    "<div> \n",
    "    <ul style='font-size:20px'> \n",
    "        <li> \n",
    "            This section is focused on presenting the project's data and carrying out some swift examinations.\n",
    "        </li>\n",
    "        <li> \n",
    "            If no issue is found, we are fine to split uṕ the dataset and begin the data analysis.\n",
    "        </li>\n",
    "    </ul>\n",
    "</div>"
   ]
  },
  {
   "cell_type": "code",
   "execution_count": 644,
   "id": "c512c2ba-eed6-4735-94e1-7d1003d9d493",
   "metadata": {},
   "outputs": [
    {
     "data": {
      "text/html": [
       "<div>\n",
       "<style scoped>\n",
       "    .dataframe tbody tr th:only-of-type {\n",
       "        vertical-align: middle;\n",
       "    }\n",
       "\n",
       "    .dataframe tbody tr th {\n",
       "        vertical-align: top;\n",
       "    }\n",
       "\n",
       "    .dataframe thead th {\n",
       "        text-align: right;\n",
       "    }\n",
       "</style>\n",
       "<table border=\"1\" class=\"dataframe\">\n",
       "  <thead>\n",
       "    <tr style=\"text-align: right;\">\n",
       "      <th></th>\n",
       "      <th>mean radius</th>\n",
       "      <th>mean texture</th>\n",
       "      <th>mean perimeter</th>\n",
       "      <th>mean area</th>\n",
       "      <th>mean smoothness</th>\n",
       "      <th>mean compactness</th>\n",
       "      <th>mean concavity</th>\n",
       "      <th>mean concave points</th>\n",
       "      <th>mean symmetry</th>\n",
       "      <th>mean fractal dimension</th>\n",
       "      <th>radius error</th>\n",
       "      <th>texture error</th>\n",
       "      <th>perimeter error</th>\n",
       "      <th>area error</th>\n",
       "      <th>smoothness error</th>\n",
       "      <th>compactness error</th>\n",
       "      <th>concavity error</th>\n",
       "      <th>concave points error</th>\n",
       "      <th>symmetry error</th>\n",
       "      <th>fractal dimension error</th>\n",
       "      <th>worst radius</th>\n",
       "      <th>worst texture</th>\n",
       "      <th>worst perimeter</th>\n",
       "      <th>worst area</th>\n",
       "      <th>worst smoothness</th>\n",
       "      <th>worst compactness</th>\n",
       "      <th>worst concavity</th>\n",
       "      <th>worst concave points</th>\n",
       "      <th>worst symmetry</th>\n",
       "      <th>worst fractal dimension</th>\n",
       "      <th>target</th>\n",
       "    </tr>\n",
       "  </thead>\n",
       "  <tbody>\n",
       "    <tr>\n",
       "      <th>0</th>\n",
       "      <td>17.99</td>\n",
       "      <td>10.38</td>\n",
       "      <td>122.80</td>\n",
       "      <td>1001.0</td>\n",
       "      <td>0.11840</td>\n",
       "      <td>0.27760</td>\n",
       "      <td>0.3001</td>\n",
       "      <td>0.14710</td>\n",
       "      <td>0.2419</td>\n",
       "      <td>0.07871</td>\n",
       "      <td>1.0950</td>\n",
       "      <td>0.9053</td>\n",
       "      <td>8.589</td>\n",
       "      <td>153.40</td>\n",
       "      <td>0.006399</td>\n",
       "      <td>0.04904</td>\n",
       "      <td>0.05373</td>\n",
       "      <td>0.01587</td>\n",
       "      <td>0.03003</td>\n",
       "      <td>0.006193</td>\n",
       "      <td>25.38</td>\n",
       "      <td>17.33</td>\n",
       "      <td>184.60</td>\n",
       "      <td>2019.0</td>\n",
       "      <td>0.1622</td>\n",
       "      <td>0.6656</td>\n",
       "      <td>0.7119</td>\n",
       "      <td>0.2654</td>\n",
       "      <td>0.4601</td>\n",
       "      <td>0.11890</td>\n",
       "      <td>0.0</td>\n",
       "    </tr>\n",
       "    <tr>\n",
       "      <th>1</th>\n",
       "      <td>20.57</td>\n",
       "      <td>17.77</td>\n",
       "      <td>132.90</td>\n",
       "      <td>1326.0</td>\n",
       "      <td>0.08474</td>\n",
       "      <td>0.07864</td>\n",
       "      <td>0.0869</td>\n",
       "      <td>0.07017</td>\n",
       "      <td>0.1812</td>\n",
       "      <td>0.05667</td>\n",
       "      <td>0.5435</td>\n",
       "      <td>0.7339</td>\n",
       "      <td>3.398</td>\n",
       "      <td>74.08</td>\n",
       "      <td>0.005225</td>\n",
       "      <td>0.01308</td>\n",
       "      <td>0.01860</td>\n",
       "      <td>0.01340</td>\n",
       "      <td>0.01389</td>\n",
       "      <td>0.003532</td>\n",
       "      <td>24.99</td>\n",
       "      <td>23.41</td>\n",
       "      <td>158.80</td>\n",
       "      <td>1956.0</td>\n",
       "      <td>0.1238</td>\n",
       "      <td>0.1866</td>\n",
       "      <td>0.2416</td>\n",
       "      <td>0.1860</td>\n",
       "      <td>0.2750</td>\n",
       "      <td>0.08902</td>\n",
       "      <td>0.0</td>\n",
       "    </tr>\n",
       "    <tr>\n",
       "      <th>2</th>\n",
       "      <td>19.69</td>\n",
       "      <td>21.25</td>\n",
       "      <td>130.00</td>\n",
       "      <td>1203.0</td>\n",
       "      <td>0.10960</td>\n",
       "      <td>0.15990</td>\n",
       "      <td>0.1974</td>\n",
       "      <td>0.12790</td>\n",
       "      <td>0.2069</td>\n",
       "      <td>0.05999</td>\n",
       "      <td>0.7456</td>\n",
       "      <td>0.7869</td>\n",
       "      <td>4.585</td>\n",
       "      <td>94.03</td>\n",
       "      <td>0.006150</td>\n",
       "      <td>0.04006</td>\n",
       "      <td>0.03832</td>\n",
       "      <td>0.02058</td>\n",
       "      <td>0.02250</td>\n",
       "      <td>0.004571</td>\n",
       "      <td>23.57</td>\n",
       "      <td>25.53</td>\n",
       "      <td>152.50</td>\n",
       "      <td>1709.0</td>\n",
       "      <td>0.1444</td>\n",
       "      <td>0.4245</td>\n",
       "      <td>0.4504</td>\n",
       "      <td>0.2430</td>\n",
       "      <td>0.3613</td>\n",
       "      <td>0.08758</td>\n",
       "      <td>0.0</td>\n",
       "    </tr>\n",
       "    <tr>\n",
       "      <th>3</th>\n",
       "      <td>11.42</td>\n",
       "      <td>20.38</td>\n",
       "      <td>77.58</td>\n",
       "      <td>386.1</td>\n",
       "      <td>0.14250</td>\n",
       "      <td>0.28390</td>\n",
       "      <td>0.2414</td>\n",
       "      <td>0.10520</td>\n",
       "      <td>0.2597</td>\n",
       "      <td>0.09744</td>\n",
       "      <td>0.4956</td>\n",
       "      <td>1.1560</td>\n",
       "      <td>3.445</td>\n",
       "      <td>27.23</td>\n",
       "      <td>0.009110</td>\n",
       "      <td>0.07458</td>\n",
       "      <td>0.05661</td>\n",
       "      <td>0.01867</td>\n",
       "      <td>0.05963</td>\n",
       "      <td>0.009208</td>\n",
       "      <td>14.91</td>\n",
       "      <td>26.50</td>\n",
       "      <td>98.87</td>\n",
       "      <td>567.7</td>\n",
       "      <td>0.2098</td>\n",
       "      <td>0.8663</td>\n",
       "      <td>0.6869</td>\n",
       "      <td>0.2575</td>\n",
       "      <td>0.6638</td>\n",
       "      <td>0.17300</td>\n",
       "      <td>0.0</td>\n",
       "    </tr>\n",
       "    <tr>\n",
       "      <th>4</th>\n",
       "      <td>20.29</td>\n",
       "      <td>14.34</td>\n",
       "      <td>135.10</td>\n",
       "      <td>1297.0</td>\n",
       "      <td>0.10030</td>\n",
       "      <td>0.13280</td>\n",
       "      <td>0.1980</td>\n",
       "      <td>0.10430</td>\n",
       "      <td>0.1809</td>\n",
       "      <td>0.05883</td>\n",
       "      <td>0.7572</td>\n",
       "      <td>0.7813</td>\n",
       "      <td>5.438</td>\n",
       "      <td>94.44</td>\n",
       "      <td>0.011490</td>\n",
       "      <td>0.02461</td>\n",
       "      <td>0.05688</td>\n",
       "      <td>0.01885</td>\n",
       "      <td>0.01756</td>\n",
       "      <td>0.005115</td>\n",
       "      <td>22.54</td>\n",
       "      <td>16.67</td>\n",
       "      <td>152.20</td>\n",
       "      <td>1575.0</td>\n",
       "      <td>0.1374</td>\n",
       "      <td>0.2050</td>\n",
       "      <td>0.4000</td>\n",
       "      <td>0.1625</td>\n",
       "      <td>0.2364</td>\n",
       "      <td>0.07678</td>\n",
       "      <td>0.0</td>\n",
       "    </tr>\n",
       "  </tbody>\n",
       "</table>\n",
       "</div>"
      ],
      "text/plain": [
       "   mean radius  mean texture  mean perimeter  mean area  mean smoothness  \\\n",
       "0        17.99         10.38          122.80     1001.0          0.11840   \n",
       "1        20.57         17.77          132.90     1326.0          0.08474   \n",
       "2        19.69         21.25          130.00     1203.0          0.10960   \n",
       "3        11.42         20.38           77.58      386.1          0.14250   \n",
       "4        20.29         14.34          135.10     1297.0          0.10030   \n",
       "\n",
       "   mean compactness  mean concavity  mean concave points  mean symmetry  \\\n",
       "0           0.27760          0.3001              0.14710         0.2419   \n",
       "1           0.07864          0.0869              0.07017         0.1812   \n",
       "2           0.15990          0.1974              0.12790         0.2069   \n",
       "3           0.28390          0.2414              0.10520         0.2597   \n",
       "4           0.13280          0.1980              0.10430         0.1809   \n",
       "\n",
       "   mean fractal dimension  radius error  texture error  perimeter error  \\\n",
       "0                 0.07871        1.0950         0.9053            8.589   \n",
       "1                 0.05667        0.5435         0.7339            3.398   \n",
       "2                 0.05999        0.7456         0.7869            4.585   \n",
       "3                 0.09744        0.4956         1.1560            3.445   \n",
       "4                 0.05883        0.7572         0.7813            5.438   \n",
       "\n",
       "   area error  smoothness error  compactness error  concavity error  \\\n",
       "0      153.40          0.006399            0.04904          0.05373   \n",
       "1       74.08          0.005225            0.01308          0.01860   \n",
       "2       94.03          0.006150            0.04006          0.03832   \n",
       "3       27.23          0.009110            0.07458          0.05661   \n",
       "4       94.44          0.011490            0.02461          0.05688   \n",
       "\n",
       "   concave points error  symmetry error  fractal dimension error  \\\n",
       "0               0.01587         0.03003                 0.006193   \n",
       "1               0.01340         0.01389                 0.003532   \n",
       "2               0.02058         0.02250                 0.004571   \n",
       "3               0.01867         0.05963                 0.009208   \n",
       "4               0.01885         0.01756                 0.005115   \n",
       "\n",
       "   worst radius  worst texture  worst perimeter  worst area  worst smoothness  \\\n",
       "0         25.38          17.33           184.60      2019.0            0.1622   \n",
       "1         24.99          23.41           158.80      1956.0            0.1238   \n",
       "2         23.57          25.53           152.50      1709.0            0.1444   \n",
       "3         14.91          26.50            98.87       567.7            0.2098   \n",
       "4         22.54          16.67           152.20      1575.0            0.1374   \n",
       "\n",
       "   worst compactness  worst concavity  worst concave points  worst symmetry  \\\n",
       "0             0.6656           0.7119                0.2654          0.4601   \n",
       "1             0.1866           0.2416                0.1860          0.2750   \n",
       "2             0.4245           0.4504                0.2430          0.3613   \n",
       "3             0.8663           0.6869                0.2575          0.6638   \n",
       "4             0.2050           0.4000                0.1625          0.2364   \n",
       "\n",
       "   worst fractal dimension  target  \n",
       "0                  0.11890     0.0  \n",
       "1                  0.08902     0.0  \n",
       "2                  0.08758     0.0  \n",
       "3                  0.17300     0.0  \n",
       "4                  0.07678     0.0  "
      ]
     },
     "execution_count": 644,
     "metadata": {},
     "output_type": "execute_result"
    }
   ],
   "source": [
    "from sklearn.datasets import load_breast_cancer\n",
    "import pandas as pd\n",
    "import numpy as np\n",
    "\n",
    "pd.set_option('max_columns', None)\n",
    "\n",
    "# Loading the data and storing it in a pandas DF.\n",
    "breast_cancer = load_breast_cancer()\n",
    "df = pd.DataFrame(np.concatenate((breast_cancer['data'], breast_cancer['target'].reshape(-1,1)), axis=1), \n",
    "                  columns=np.append(breast_cancer['feature_names'], 'target'))\n",
    "df.head()"
   ]
  },
  {
   "cell_type": "code",
   "execution_count": 2,
   "id": "5803a277-f50f-42cb-9120-ff8fe59b4774",
   "metadata": {},
   "outputs": [
    {
     "name": "stdout",
     "output_type": "stream",
     "text": [
      "<class 'pandas.core.frame.DataFrame'>\n",
      "RangeIndex: 569 entries, 0 to 568\n",
      "Data columns (total 31 columns):\n",
      " #   Column                   Non-Null Count  Dtype  \n",
      "---  ------                   --------------  -----  \n",
      " 0   mean radius              569 non-null    float64\n",
      " 1   mean texture             569 non-null    float64\n",
      " 2   mean perimeter           569 non-null    float64\n",
      " 3   mean area                569 non-null    float64\n",
      " 4   mean smoothness          569 non-null    float64\n",
      " 5   mean compactness         569 non-null    float64\n",
      " 6   mean concavity           569 non-null    float64\n",
      " 7   mean concave points      569 non-null    float64\n",
      " 8   mean symmetry            569 non-null    float64\n",
      " 9   mean fractal dimension   569 non-null    float64\n",
      " 10  radius error             569 non-null    float64\n",
      " 11  texture error            569 non-null    float64\n",
      " 12  perimeter error          569 non-null    float64\n",
      " 13  area error               569 non-null    float64\n",
      " 14  smoothness error         569 non-null    float64\n",
      " 15  compactness error        569 non-null    float64\n",
      " 16  concavity error          569 non-null    float64\n",
      " 17  concave points error     569 non-null    float64\n",
      " 18  symmetry error           569 non-null    float64\n",
      " 19  fractal dimension error  569 non-null    float64\n",
      " 20  worst radius             569 non-null    float64\n",
      " 21  worst texture            569 non-null    float64\n",
      " 22  worst perimeter          569 non-null    float64\n",
      " 23  worst area               569 non-null    float64\n",
      " 24  worst smoothness         569 non-null    float64\n",
      " 25  worst compactness        569 non-null    float64\n",
      " 26  worst concavity          569 non-null    float64\n",
      " 27  worst concave points     569 non-null    float64\n",
      " 28  worst symmetry           569 non-null    float64\n",
      " 29  worst fractal dimension  569 non-null    float64\n",
      " 30  target                   569 non-null    float64\n",
      "dtypes: float64(31)\n",
      "memory usage: 137.9 KB\n"
     ]
    }
   ],
   "source": [
    "# Not a single cell from the DataFrame holds null values.\n",
    "df.info()"
   ]
  },
  {
   "cell_type": "code",
   "execution_count": 3,
   "id": "5b8d1ab4-33fd-4617-abe6-9556ff67f0aa",
   "metadata": {},
   "outputs": [
    {
     "data": {
      "image/png": "[encoded data removed]",
      "text/plain": [
       "<Figure size 1080x576 with 36 Axes>"
      ]
     },
     "metadata": {
      "needs_background": "light"
     },
     "output_type": "display_data"
    }
   ],
   "source": [
    "# Let's take a brief peek at the feature distributions shapes.\n",
    "import matplotlib.pyplot as plt\n",
    "df.hist(bins=20, figsize=(15,8));\n",
    "plt.tight_layout()"
   ]
  },
  {
   "cell_type": "markdown",
   "id": "b214276b-9085-477a-b334-d07742652c16",
   "metadata": {},
   "source": [
    "<div> \n",
    "    <ul style='font-size:20px'> \n",
    "        <li> \n",
    "            It is clear that most of the features present extreme values. It would be interesting to get rid of them aiming higher performances from our models. \n",
    "        </li>\n",
    "        <li> \n",
    "            Also, notice that we are dealing with an unbalanced dataset; the quantity of malignant cells (0) is half the number of the benign ones (1). \n",
    "        </li>\n",
    "    </ul>\n",
    "</div>"
   ]
  },
  {
   "cell_type": "markdown",
   "id": "a54841a9-4114-49e9-8b6d-a2a0f95980f0",
   "metadata": {},
   "source": [
    "<h3 style='font-size:30px;font-style:italic'> Dataset Splitting</h3>\n",
    "<div> \n",
    "    <ul style='font-size:20px'> \n",
    "        <li> \n",
    "            Since no inconvenience was encountered among the data, we are able to split it and start the analysis.\n",
    "        </li>\n",
    "    </ul>\n",
    "</div>"
   ]
  },
  {
   "cell_type": "code",
   "execution_count": 645,
   "id": "6252d06c-5c29-48a2-a6ca-52fa0733b9ba",
   "metadata": {},
   "outputs": [],
   "source": [
    "from sklearn.model_selection import StratifiedShuffleSplit\n",
    "\n",
    "# Separating independent and dependent variables. \n",
    "X = df.iloc[:, :-1]\n",
    "y = df.iloc[:, -1]\n",
    "\n",
    "# Creating the train and test sets according to the target variables proportions that were just exposed.\n",
    "split = StratifiedShuffleSplit(n_splits=1, test_size=.2, random_state=42)\n",
    "for train_index, test_index in split.split(X,y):\n",
    "    train = df.loc[train_index]\n",
    "    test = df.loc[test_index]"
   ]
  },
  {
   "cell_type": "code",
   "execution_count": 5,
   "id": "7727d167-caef-4e34-8ac7-dd8e58cb0b7e",
   "metadata": {},
   "outputs": [
    {
     "data": {
      "text/plain": [
       "array([0.37362637, 0.62637363])"
      ]
     },
     "execution_count": 5,
     "metadata": {},
     "output_type": "execute_result"
    }
   ],
   "source": [
    "# Since malignant cells represent roughly 37% of the train set, our validation metric is going to be a f-score with beta=0.37.\n",
    "np.bincount(train['target']) / np.bincount(train['target']).sum()"
   ]
  },
  {
   "cell_type": "markdown",
   "id": "976755d5-a2c7-4c7e-a6e7-b94c13c4b63e",
   "metadata": {},
   "source": [
    "<h2 style='font-size:30px'>Training Set Analysis and Outlier Removal</h2>\n",
    "<div> \n",
    "    <ul style='font-size:20px'> \n",
    "        <li> \n",
    "            Our main intent in this section is to present the differences among malign and benign cancer cells. Can we prove that our models will have the conditions to satisfactorily distinguish the instances?\n",
    "        </li>\n",
    "    </ul>\n",
    "</div>"
   ]
  },
  {
   "cell_type": "code",
   "execution_count": 6,
   "id": "b3e1f4bd-f33f-4a5a-b976-4a1c494a2b7f",
   "metadata": {},
   "outputs": [
    {
     "data": {
      "text/html": [
       "<div>\n",
       "<style scoped>\n",
       "    .dataframe tbody tr th:only-of-type {\n",
       "        vertical-align: middle;\n",
       "    }\n",
       "\n",
       "    .dataframe tbody tr th {\n",
       "        vertical-align: top;\n",
       "    }\n",
       "\n",
       "    .dataframe thead th {\n",
       "        text-align: right;\n",
       "    }\n",
       "</style>\n",
       "<table border=\"1\" class=\"dataframe\">\n",
       "  <thead>\n",
       "    <tr style=\"text-align: right;\">\n",
       "      <th></th>\n",
       "      <th>mean radius</th>\n",
       "      <th>mean texture</th>\n",
       "      <th>mean perimeter</th>\n",
       "      <th>mean area</th>\n",
       "      <th>mean smoothness</th>\n",
       "      <th>mean compactness</th>\n",
       "      <th>mean concavity</th>\n",
       "      <th>mean concave points</th>\n",
       "      <th>mean symmetry</th>\n",
       "      <th>mean fractal dimension</th>\n",
       "      <th>radius error</th>\n",
       "      <th>texture error</th>\n",
       "      <th>perimeter error</th>\n",
       "      <th>area error</th>\n",
       "      <th>smoothness error</th>\n",
       "      <th>compactness error</th>\n",
       "      <th>concavity error</th>\n",
       "      <th>concave points error</th>\n",
       "      <th>symmetry error</th>\n",
       "      <th>fractal dimension error</th>\n",
       "      <th>worst radius</th>\n",
       "      <th>worst texture</th>\n",
       "      <th>worst perimeter</th>\n",
       "      <th>worst area</th>\n",
       "      <th>worst smoothness</th>\n",
       "      <th>worst compactness</th>\n",
       "      <th>worst concavity</th>\n",
       "      <th>worst concave points</th>\n",
       "      <th>worst symmetry</th>\n",
       "      <th>worst fractal dimension</th>\n",
       "      <th>target</th>\n",
       "    </tr>\n",
       "  </thead>\n",
       "  <tbody>\n",
       "    <tr>\n",
       "      <th>count</th>\n",
       "      <td>455.000000</td>\n",
       "      <td>455.000000</td>\n",
       "      <td>455.000000</td>\n",
       "      <td>455.000000</td>\n",
       "      <td>455.000000</td>\n",
       "      <td>455.000000</td>\n",
       "      <td>455.000000</td>\n",
       "      <td>455.000000</td>\n",
       "      <td>455.000000</td>\n",
       "      <td>455.000000</td>\n",
       "      <td>455.000000</td>\n",
       "      <td>455.000000</td>\n",
       "      <td>455.000000</td>\n",
       "      <td>455.000000</td>\n",
       "      <td>455.000000</td>\n",
       "      <td>455.000000</td>\n",
       "      <td>455.000000</td>\n",
       "      <td>455.000000</td>\n",
       "      <td>455.000000</td>\n",
       "      <td>455.000000</td>\n",
       "      <td>455.000000</td>\n",
       "      <td>455.000000</td>\n",
       "      <td>455.000000</td>\n",
       "      <td>455.000000</td>\n",
       "      <td>455.000000</td>\n",
       "      <td>455.000000</td>\n",
       "      <td>455.000000</td>\n",
       "      <td>455.000000</td>\n",
       "      <td>455.000000</td>\n",
       "      <td>455.000000</td>\n",
       "      <td>455.000000</td>\n",
       "    </tr>\n",
       "    <tr>\n",
       "      <th>mean</th>\n",
       "      <td>14.067213</td>\n",
       "      <td>19.247363</td>\n",
       "      <td>91.557407</td>\n",
       "      <td>648.541099</td>\n",
       "      <td>0.096167</td>\n",
       "      <td>0.103869</td>\n",
       "      <td>0.089193</td>\n",
       "      <td>0.048344</td>\n",
       "      <td>0.180618</td>\n",
       "      <td>0.062820</td>\n",
       "      <td>0.398972</td>\n",
       "      <td>1.218729</td>\n",
       "      <td>2.822550</td>\n",
       "      <td>39.243747</td>\n",
       "      <td>0.007084</td>\n",
       "      <td>0.025538</td>\n",
       "      <td>0.032552</td>\n",
       "      <td>0.011673</td>\n",
       "      <td>0.020779</td>\n",
       "      <td>0.003797</td>\n",
       "      <td>16.177226</td>\n",
       "      <td>25.647297</td>\n",
       "      <td>106.625297</td>\n",
       "      <td>869.026593</td>\n",
       "      <td>0.132329</td>\n",
       "      <td>0.254329</td>\n",
       "      <td>0.276578</td>\n",
       "      <td>0.113904</td>\n",
       "      <td>0.290865</td>\n",
       "      <td>0.083945</td>\n",
       "      <td>0.626374</td>\n",
       "    </tr>\n",
       "    <tr>\n",
       "      <th>std</th>\n",
       "      <td>3.499380</td>\n",
       "      <td>4.405291</td>\n",
       "      <td>24.149231</td>\n",
       "      <td>344.944564</td>\n",
       "      <td>0.013458</td>\n",
       "      <td>0.053522</td>\n",
       "      <td>0.081747</td>\n",
       "      <td>0.038925</td>\n",
       "      <td>0.028074</td>\n",
       "      <td>0.007159</td>\n",
       "      <td>0.267825</td>\n",
       "      <td>0.571523</td>\n",
       "      <td>1.973475</td>\n",
       "      <td>41.763197</td>\n",
       "      <td>0.003135</td>\n",
       "      <td>0.018467</td>\n",
       "      <td>0.032370</td>\n",
       "      <td>0.006290</td>\n",
       "      <td>0.008764</td>\n",
       "      <td>0.002780</td>\n",
       "      <td>4.770020</td>\n",
       "      <td>6.225470</td>\n",
       "      <td>33.195053</td>\n",
       "      <td>552.926912</td>\n",
       "      <td>0.022550</td>\n",
       "      <td>0.159882</td>\n",
       "      <td>0.215937</td>\n",
       "      <td>0.066784</td>\n",
       "      <td>0.064624</td>\n",
       "      <td>0.018408</td>\n",
       "      <td>0.484299</td>\n",
       "    </tr>\n",
       "    <tr>\n",
       "      <th>min</th>\n",
       "      <td>6.981000</td>\n",
       "      <td>9.710000</td>\n",
       "      <td>43.790000</td>\n",
       "      <td>143.500000</td>\n",
       "      <td>0.062510</td>\n",
       "      <td>0.019380</td>\n",
       "      <td>0.000000</td>\n",
       "      <td>0.000000</td>\n",
       "      <td>0.106000</td>\n",
       "      <td>0.049960</td>\n",
       "      <td>0.111500</td>\n",
       "      <td>0.360200</td>\n",
       "      <td>0.757000</td>\n",
       "      <td>6.802000</td>\n",
       "      <td>0.001713</td>\n",
       "      <td>0.002252</td>\n",
       "      <td>0.000000</td>\n",
       "      <td>0.000000</td>\n",
       "      <td>0.007882</td>\n",
       "      <td>0.000895</td>\n",
       "      <td>7.930000</td>\n",
       "      <td>12.020000</td>\n",
       "      <td>50.410000</td>\n",
       "      <td>185.200000</td>\n",
       "      <td>0.071170</td>\n",
       "      <td>0.027290</td>\n",
       "      <td>0.000000</td>\n",
       "      <td>0.000000</td>\n",
       "      <td>0.156500</td>\n",
       "      <td>0.055040</td>\n",
       "      <td>0.000000</td>\n",
       "    </tr>\n",
       "    <tr>\n",
       "      <th>25%</th>\n",
       "      <td>11.635000</td>\n",
       "      <td>16.000000</td>\n",
       "      <td>74.720000</td>\n",
       "      <td>415.650000</td>\n",
       "      <td>0.086475</td>\n",
       "      <td>0.063750</td>\n",
       "      <td>0.028010</td>\n",
       "      <td>0.020220</td>\n",
       "      <td>0.161750</td>\n",
       "      <td>0.057685</td>\n",
       "      <td>0.234100</td>\n",
       "      <td>0.830500</td>\n",
       "      <td>1.597000</td>\n",
       "      <td>17.730000</td>\n",
       "      <td>0.005185</td>\n",
       "      <td>0.012745</td>\n",
       "      <td>0.014550</td>\n",
       "      <td>0.007501</td>\n",
       "      <td>0.015090</td>\n",
       "      <td>0.002214</td>\n",
       "      <td>13.010000</td>\n",
       "      <td>21.090000</td>\n",
       "      <td>83.715000</td>\n",
       "      <td>513.900000</td>\n",
       "      <td>0.115950</td>\n",
       "      <td>0.145850</td>\n",
       "      <td>0.107900</td>\n",
       "      <td>0.063390</td>\n",
       "      <td>0.249400</td>\n",
       "      <td>0.071835</td>\n",
       "      <td>0.000000</td>\n",
       "    </tr>\n",
       "    <tr>\n",
       "      <th>50%</th>\n",
       "      <td>13.270000</td>\n",
       "      <td>18.820000</td>\n",
       "      <td>85.980000</td>\n",
       "      <td>541.800000</td>\n",
       "      <td>0.095660</td>\n",
       "      <td>0.090970</td>\n",
       "      <td>0.059990</td>\n",
       "      <td>0.032630</td>\n",
       "      <td>0.178100</td>\n",
       "      <td>0.061440</td>\n",
       "      <td>0.316300</td>\n",
       "      <td>1.077000</td>\n",
       "      <td>2.235000</td>\n",
       "      <td>24.250000</td>\n",
       "      <td>0.006369</td>\n",
       "      <td>0.020170</td>\n",
       "      <td>0.025890</td>\n",
       "      <td>0.010670</td>\n",
       "      <td>0.018700</td>\n",
       "      <td>0.003114</td>\n",
       "      <td>14.910000</td>\n",
       "      <td>25.400000</td>\n",
       "      <td>97.590000</td>\n",
       "      <td>683.400000</td>\n",
       "      <td>0.131400</td>\n",
       "      <td>0.211600</td>\n",
       "      <td>0.229800</td>\n",
       "      <td>0.097220</td>\n",
       "      <td>0.281900</td>\n",
       "      <td>0.079930</td>\n",
       "      <td>1.000000</td>\n",
       "    </tr>\n",
       "    <tr>\n",
       "      <th>75%</th>\n",
       "      <td>15.740000</td>\n",
       "      <td>21.710000</td>\n",
       "      <td>103.700000</td>\n",
       "      <td>770.050000</td>\n",
       "      <td>0.104850</td>\n",
       "      <td>0.130100</td>\n",
       "      <td>0.132200</td>\n",
       "      <td>0.073820</td>\n",
       "      <td>0.195300</td>\n",
       "      <td>0.066250</td>\n",
       "      <td>0.468900</td>\n",
       "      <td>1.472000</td>\n",
       "      <td>3.264500</td>\n",
       "      <td>44.775000</td>\n",
       "      <td>0.008183</td>\n",
       "      <td>0.032130</td>\n",
       "      <td>0.042705</td>\n",
       "      <td>0.014600</td>\n",
       "      <td>0.023560</td>\n",
       "      <td>0.004526</td>\n",
       "      <td>18.550000</td>\n",
       "      <td>29.370000</td>\n",
       "      <td>124.950000</td>\n",
       "      <td>1033.500000</td>\n",
       "      <td>0.146200</td>\n",
       "      <td>0.336800</td>\n",
       "      <td>0.385300</td>\n",
       "      <td>0.162500</td>\n",
       "      <td>0.320100</td>\n",
       "      <td>0.092070</td>\n",
       "      <td>1.000000</td>\n",
       "    </tr>\n",
       "    <tr>\n",
       "      <th>max</th>\n",
       "      <td>28.110000</td>\n",
       "      <td>39.280000</td>\n",
       "      <td>188.500000</td>\n",
       "      <td>2499.000000</td>\n",
       "      <td>0.144700</td>\n",
       "      <td>0.345400</td>\n",
       "      <td>0.426800</td>\n",
       "      <td>0.201200</td>\n",
       "      <td>0.304000</td>\n",
       "      <td>0.097440</td>\n",
       "      <td>2.873000</td>\n",
       "      <td>4.885000</td>\n",
       "      <td>21.980000</td>\n",
       "      <td>525.600000</td>\n",
       "      <td>0.031130</td>\n",
       "      <td>0.135400</td>\n",
       "      <td>0.396000</td>\n",
       "      <td>0.052790</td>\n",
       "      <td>0.078950</td>\n",
       "      <td>0.029840</td>\n",
       "      <td>33.130000</td>\n",
       "      <td>49.540000</td>\n",
       "      <td>229.300000</td>\n",
       "      <td>3432.000000</td>\n",
       "      <td>0.218400</td>\n",
       "      <td>1.058000</td>\n",
       "      <td>1.252000</td>\n",
       "      <td>0.291000</td>\n",
       "      <td>0.663800</td>\n",
       "      <td>0.207500</td>\n",
       "      <td>1.000000</td>\n",
       "    </tr>\n",
       "  </tbody>\n",
       "</table>\n",
       "</div>"
      ],
      "text/plain": [
       "       mean radius  mean texture  mean perimeter    mean area  \\\n",
       "count   455.000000    455.000000      455.000000   455.000000   \n",
       "mean     14.067213     19.247363       91.557407   648.541099   \n",
       "std       3.499380      4.405291       24.149231   344.944564   \n",
       "min       6.981000      9.710000       43.790000   143.500000   \n",
       "25%      11.635000     16.000000       74.720000   415.650000   \n",
       "50%      13.270000     18.820000       85.980000   541.800000   \n",
       "75%      15.740000     21.710000      103.700000   770.050000   \n",
       "max      28.110000     39.280000      188.500000  2499.000000   \n",
       "\n",
       "       mean smoothness  mean compactness  mean concavity  mean concave points  \\\n",
       "count       455.000000        455.000000      455.000000           455.000000   \n",
       "mean          0.096167          0.103869        0.089193             0.048344   \n",
       "std           0.013458          0.053522        0.081747             0.038925   \n",
       "min           0.062510          0.019380        0.000000             0.000000   \n",
       "25%           0.086475          0.063750        0.028010             0.020220   \n",
       "50%           0.095660          0.090970        0.059990             0.032630   \n",
       "75%           0.104850          0.130100        0.132200             0.073820   \n",
       "max           0.144700          0.345400        0.426800             0.201200   \n",
       "\n",
       "       mean symmetry  mean fractal dimension  radius error  texture error  \\\n",
       "count     455.000000              455.000000    455.000000     455.000000   \n",
       "mean        0.180618                0.062820      0.398972       1.218729   \n",
       "std         0.028074                0.007159      0.267825       0.571523   \n",
       "min         0.106000                0.049960      0.111500       0.360200   \n",
       "25%         0.161750                0.057685      0.234100       0.830500   \n",
       "50%         0.178100                0.061440      0.316300       1.077000   \n",
       "75%         0.195300                0.066250      0.468900       1.472000   \n",
       "max         0.304000                0.097440      2.873000       4.885000   \n",
       "\n",
       "       perimeter error  area error  smoothness error  compactness error  \\\n",
       "count       455.000000  455.000000        455.000000         455.000000   \n",
       "mean          2.822550   39.243747          0.007084           0.025538   \n",
       "std           1.973475   41.763197          0.003135           0.018467   \n",
       "min           0.757000    6.802000          0.001713           0.002252   \n",
       "25%           1.597000   17.730000          0.005185           0.012745   \n",
       "50%           2.235000   24.250000          0.006369           0.020170   \n",
       "75%           3.264500   44.775000          0.008183           0.032130   \n",
       "max          21.980000  525.600000          0.031130           0.135400   \n",
       "\n",
       "       concavity error  concave points error  symmetry error  \\\n",
       "count       455.000000            455.000000      455.000000   \n",
       "mean          0.032552              0.011673        0.020779   \n",
       "std           0.032370              0.006290        0.008764   \n",
       "min           0.000000              0.000000        0.007882   \n",
       "25%           0.014550              0.007501        0.015090   \n",
       "50%           0.025890              0.010670        0.018700   \n",
       "75%           0.042705              0.014600        0.023560   \n",
       "max           0.396000              0.052790        0.078950   \n",
       "\n",
       "       fractal dimension error  worst radius  worst texture  worst perimeter  \\\n",
       "count               455.000000    455.000000     455.000000       455.000000   \n",
       "mean                  0.003797     16.177226      25.647297       106.625297   \n",
       "std                   0.002780      4.770020       6.225470        33.195053   \n",
       "min                   0.000895      7.930000      12.020000        50.410000   \n",
       "25%                   0.002214     13.010000      21.090000        83.715000   \n",
       "50%                   0.003114     14.910000      25.400000        97.590000   \n",
       "75%                   0.004526     18.550000      29.370000       124.950000   \n",
       "max                   0.029840     33.130000      49.540000       229.300000   \n",
       "\n",
       "        worst area  worst smoothness  worst compactness  worst concavity  \\\n",
       "count   455.000000        455.000000         455.000000       455.000000   \n",
       "mean    869.026593          0.132329           0.254329         0.276578   \n",
       "std     552.926912          0.022550           0.159882         0.215937   \n",
       "min     185.200000          0.071170           0.027290         0.000000   \n",
       "25%     513.900000          0.115950           0.145850         0.107900   \n",
       "50%     683.400000          0.131400           0.211600         0.229800   \n",
       "75%    1033.500000          0.146200           0.336800         0.385300   \n",
       "max    3432.000000          0.218400           1.058000         1.252000   \n",
       "\n",
       "       worst concave points  worst symmetry  worst fractal dimension  \\\n",
       "count            455.000000      455.000000               455.000000   \n",
       "mean               0.113904        0.290865                 0.083945   \n",
       "std                0.066784        0.064624                 0.018408   \n",
       "min                0.000000        0.156500                 0.055040   \n",
       "25%                0.063390        0.249400                 0.071835   \n",
       "50%                0.097220        0.281900                 0.079930   \n",
       "75%                0.162500        0.320100                 0.092070   \n",
       "max                0.291000        0.663800                 0.207500   \n",
       "\n",
       "           target  \n",
       "count  455.000000  \n",
       "mean     0.626374  \n",
       "std      0.484299  \n",
       "min      0.000000  \n",
       "25%      0.000000  \n",
       "50%      1.000000  \n",
       "75%      1.000000  \n",
       "max      1.000000  "
      ]
     },
     "execution_count": 6,
     "metadata": {},
     "output_type": "execute_result"
    }
   ],
   "source": [
    "# One important point to note: the columns present extreme values. That is, those numbers are way too far from the features' mean.\n",
    "\n",
    "# In order to provide models with good performances, it is necessary to avoid feeding them with data contaning outliers.\n",
    "train.describe()"
   ]
  },
  {
   "cell_type": "markdown",
   "id": "f2346de3-bd7a-47e5-b1d8-05b1f8c26469",
   "metadata": {},
   "source": [
    "<h3 style='font-size:30px;font-style:italic'> Distribution Comparisons</h3>\n",
    "<div> \n",
    "    <ul style='font-size:20px'> \n",
    "        <li> \n",
    "            As we are carrying out a binary classification task, it is essential that our classes present differences in their feature values.\n",
    "        </li>\n",
    "        <li> \n",
    "            Our job here is to detect columns which data do not seem to show such differences and so are unable to properly distinguish the classes.\n",
    "        </li>\n",
    "    </ul>\n",
    "</div>"
   ]
  },
  {
   "cell_type": "code",
   "execution_count": 7,
   "id": "1750817a-f2f5-4db6-80d4-84d7c029d81f",
   "metadata": {},
   "outputs": [
    {
     "data": {
      "text/plain": [
       "<seaborn.axisgrid.FacetGrid at 0x7f201fc34d90>"
      ]
     },
     "execution_count": 7,
     "metadata": {},
     "output_type": "execute_result"
    },
    {
     "data": {
      "image/png": "[encoded data removed]",
      "text/plain": [
       "<Figure size 2274.45x1800 with 30 Axes>"
      ]
     },
     "metadata": {
      "needs_background": "light"
     },
     "output_type": "display_data"
    }
   ],
   "source": [
    "import seaborn as sns\n",
    "# The seaborn's 'displot' method requires that our DataFrame is in the long format.\n",
    "sns.mpl.rc('font', **{'size':22})\n",
    "sns.displot(train.melt(id_vars='target'), x='value', col='variable', hue='target', col_wrap=6, facet_kws={'sharex':False}, \n",
    "            common_bins=False, height=5)"
   ]
  },
  {
   "cell_type": "markdown",
   "id": "64dd0a6a-9b8a-410c-a7c6-6824ab173920",
   "metadata": {},
   "source": [
    "<div> \n",
    "    <ul style='font-size:20px'> \n",
    "        <li> \n",
    "            We must avoid using features with histograms that overlap each other, namely:\n",
    "            <ul style='list-style-type:circle'> \n",
    "                <li> \n",
    "                    Mean Smoothness\n",
    "                </li>\n",
    "                <li> \n",
    "                    Mean Symmetry\n",
    "                </li>\n",
    "                <li> \n",
    "                    Mean Fractal Dimension\n",
    "                </li>\n",
    "                <li> \n",
    "                    Texture Error\n",
    "                </li>\n",
    "                <li> \n",
    "                    Smoothness Error\n",
    "                </li>\n",
    "                <li> \n",
    "                    Symmetry Error\n",
    "                </li>\n",
    "                <li> \n",
    "                    Fractal Dimension Error\n",
    "                </li>\n",
    "                <li> \n",
    "                    Worst Symmetry\n",
    "                </li>\n",
    "                <li> \n",
    "                    Worst Fractal Dimension\n",
    "                </li>\n",
    "            </ul>\n",
    "        </li>\n",
    "    </ul>\n",
    "</div>"
   ]
  },
  {
   "cell_type": "code",
   "execution_count": 646,
   "id": "4f206465-7de4-4562-8995-c4e280f5c746",
   "metadata": {},
   "outputs": [],
   "source": [
    "# Dropping out the referred columns.\n",
    "to_drop = ['mean smoothness', 'mean symmetry', 'mean fractal dimension', 'texture error',\n",
    "          'smoothness error', 'symmetry error', 'fractal dimension error', 'worst symmetry',\n",
    "          'worst fractal dimension']\n",
    "\n",
    "train.drop(to_drop, axis=1, inplace=True)"
   ]
  },
  {
   "cell_type": "markdown",
   "id": "20a1fd0d-4d73-4206-9a57-1d1aa3c7bc70",
   "metadata": {},
   "source": [
    "<h3 style='font-size:30px;font-style:italic'> Outlier Deletion</h3>\n",
    "<div> \n",
    "    <ul style='font-size:20px'> \n",
    "        <li> \n",
    "            To refine the K-Means clusterization, let's remove univariate outliers from the dataset using the Z-Score rule (up to 3 STD's).\n",
    "        </li>\n",
    "    </ul>\n",
    "</div>"
   ]
  },
  {
   "cell_type": "code",
   "execution_count": 647,
   "id": "60630261-2ee4-4abd-aee4-63a9f4e9f57e",
   "metadata": {},
   "outputs": [],
   "source": [
    "# Keep in mind that the categories have different distribution shapes for each feature. Therefore, the outlier removal needs to be \n",
    "# carried out according to the instance's target variable.\n",
    "from scipy.stats import zscore\n",
    "\n",
    "# We'll avail the occasion to separate the independent and dependent variables.\n",
    "X_train = pd.DataFrame(columns=train.columns[:-1])\n",
    "for target in train.target.unique():\n",
    "    X = zscore(train[train.target==target].iloc[:, :-1]).abs()    \n",
    "    # Only appending to 'X_train' rows that have all their zscore absolute value lower than 3. \n",
    "    X_train = X_train.append(train.loc[X[X<3].dropna().index, :'worst concave points'])\n",
    "    \n",
    "# Creating 'y_train' with the indices from 'X_train'.\n",
    "y_train = train.loc[X_train.index, 'target']"
   ]
  },
  {
   "cell_type": "markdown",
   "id": "2a404777-9887-462e-9452-f0a7df57a302",
   "metadata": {},
   "source": [
    "<h2 style='font-size:30px'>Data Treatment</h2>\n",
    "<div> \n",
    "    <ul style='font-size:20px'> \n",
    "        <li> \n",
    "            Before beginning any validation, it is essential to ensure that all features are properly scaled. Moreover, some other data preparation mechanisms (such as imputers) must be brought considering future uses of our system.\n",
    "        </li>\n",
    "    </ul>\n",
    "</div>"
   ]
  },
  {
   "cell_type": "code",
   "execution_count": 649,
   "id": "63714e3e-bb8d-4377-9278-d6d17ef9721e",
   "metadata": {},
   "outputs": [],
   "source": [
    "# 'FeatureFilter' is a class that drops out the features mentioned in the 'to_drop' list.\n",
    "from sklearn.base import BaseEstimator, TransformerMixin\n",
    "class FeatureFilter(BaseException, TransformerMixin):\n",
    "    def __init__(self, to_drop):\n",
    "        # The user needs to pass a list of feature names that need to be disregarded.\n",
    "        self.to_drop = to_drop\n",
    "        \n",
    "    def fit(self, X, y=None):\n",
    "        return self\n",
    "    \n",
    "    # Returning the dataset properly trimmed. \n",
    "    def transform(self, X):\n",
    "        # In the training set case, this procedure can't be done, since the features were already trimmed off.\n",
    "        try:\n",
    "            return X.drop(self.to_drop, axis=1)\n",
    "        except:\n",
    "            return X"
   ]
  },
  {
   "cell_type": "code",
   "execution_count": 651,
   "id": "ff74cdad-7119-4750-8aeb-50e9f74fb2ae",
   "metadata": {},
   "outputs": [],
   "source": [
    "from sklearn.pipeline import Pipeline\n",
    "from sklearn.impute import KNNImputer \n",
    "from sklearn.preprocessing import StandardScaler\n",
    "\n",
    "pipe = Pipeline([\n",
    "    ('filter', FeatureFilter(to_drop)),\n",
    "    ('knn_imputer', KNNImputer(n_neighbors=7)),\n",
    "    ('std_scaler', StandardScaler())\n",
    "])\n",
    "\n",
    "X_train_pipe = pipe.fit_transform(X_train)"
   ]
  },
  {
   "cell_type": "markdown",
   "id": "faab7670-e855-45c2-a394-c113b0de883c",
   "metadata": {},
   "source": [
    "<h2 style='font-size:30px'>Ensemble Validations</h2>\n",
    "<div> \n",
    "    <ul style='font-size:20px'> \n",
    "        <li> \n",
    "            The purpose of carrying out a validation phase previous to the K-Means usage is removing columns that may have no relevance in detecting the instances' class.\n",
    "        </li>\n",
    "    </ul>\n",
    "</div>"
   ]
  },
  {
   "cell_type": "code",
   "execution_count": 108,
   "id": "3ce80c0b-8262-4566-8bf0-b3ad27b795e9",
   "metadata": {},
   "outputs": [],
   "source": [
    "# Again, since the malign (0) cases represent 37% of the training data, we'll use the f-.37 metric. \n",
    "from sklearn.metrics import fbeta_score, make_scorer\n",
    "f037 = make_scorer(fbeta_score, beta=.37)"
   ]
  },
  {
   "cell_type": "markdown",
   "id": "460ece5d-f164-4c98-b3cf-81fa7b41d0f4",
   "metadata": {},
   "source": [
    "<h3 style='font-size:30px;font-style:italic'> xgboost</h3>"
   ]
  },
  {
   "cell_type": "code",
   "execution_count": 107,
   "id": "eab097fb-cd4e-438d-9525-657293a402ab",
   "metadata": {},
   "outputs": [
    {
     "name": "stdout",
     "output_type": "stream",
     "text": [
      "Fitting 5 folds for each of 20 candidates, totalling 100 fits\n"
     ]
    },
    {
     "data": {
      "text/plain": [
       "RandomizedSearchCV(cv=5,\n",
       "                   estimator=XGBClassifier(base_score=None, booster=None,\n",
       "                                           callbacks=None,\n",
       "                                           colsample_bylevel=None,\n",
       "                                           colsample_bynode=None,\n",
       "                                           colsample_bytree=None,\n",
       "                                           early_stopping_rounds=None,\n",
       "                                           enable_categorical=False,\n",
       "                                           eval_metric=None, gamma=None,\n",
       "                                           gpu_id=None, grow_policy=None,\n",
       "                                           importance_type=None,\n",
       "                                           interaction_constraints=None,\n",
       "                                           learning_rate=None, max_bin=None,...\n",
       "                                           reg_alpha=None, reg_lambda=None, ...),\n",
       "                   n_iter=20, n_jobs=-1,\n",
       "                   param_distributions={'colsample_bytree': <scipy.stats._distn_infrastructure.rv_frozen object at 0x7f20131203d0>,\n",
       "                                        'learning_rate': <scipy.stats._distn_infrastructure.rv_frozen object at 0x7f20131205b0>,\n",
       "                                        'max_depth': [3, 4],\n",
       "                                        'n_estimators': array([55, 63, 59, 59, 54])},\n",
       "                   random_state=42, scoring=make_scorer(fbeta_score, beta=0.37),\n",
       "                   verbose=3)"
      ]
     },
     "execution_count": 107,
     "metadata": {},
     "output_type": "execute_result"
    }
   ],
   "source": [
    "# Let's try out xgboost and verify its 'feature_importances' array.\n",
    "# Note that the model needs to reach high performances to make the array usage worth it.\n",
    "from sklearn.model_selection import RandomizedSearchCV\n",
    "from scipy.stats import uniform, norm\n",
    "from xgboost import XGBClassifier\n",
    "\n",
    "param_grid = {'n_estimators': np.random.randint(low=50, high=65, size=5), 'max_depth':[3,4],\n",
    "              'learning_rate':norm(loc=.025, scale=.005), 'colsample_bytree':norm(loc=.2, scale=.05)}\n",
    "xgb = XGBClassifier(random_state=42)\n",
    "\n",
    "xgb_rdn = RandomizedSearchCV(xgb, param_grid, n_iter=20, scoring=f037, cv=5, random_state=42, n_jobs=-1, verbose=3)\n",
    "xgb_rdn.fit(X_train_pipe, y_train)"
   ]
  },
  {
   "cell_type": "code",
   "execution_count": 110,
   "id": "7f54e32e-6e7c-493a-8fad-3c951526595e",
   "metadata": {},
   "outputs": [
    {
     "data": {
      "text/plain": [
       "(0.9777574875649592,\n",
       " {'colsample_bytree': 0.17331755980787567,\n",
       "  'learning_rate': 0.02497236068839937,\n",
       "  'max_depth': 4,\n",
       "  'n_estimators': 55})"
      ]
     },
     "execution_count": 110,
     "metadata": {},
     "output_type": "execute_result"
    }
   ],
   "source": [
    "# We've achieved a great performance! The Randomized Search's best estimator might give us important insights on what are the \n",
    "# features we need to have special consideration for.\n",
    "xgb_rdn.best_score_, xgb_rdn.best_params_"
   ]
  },
  {
   "cell_type": "code",
   "execution_count": 226,
   "id": "3ba40e6d-c96d-4080-9b0a-0b69ea65ed7a",
   "metadata": {},
   "outputs": [],
   "source": [
    "# I've found appropriate to store our models in a separate directory.\n",
    "from os import mkdir\n",
    "mkdir('models')"
   ]
  },
  {
   "cell_type": "code",
   "execution_count": 230,
   "id": "377bd180-3e2e-481a-9919-cbcafe2d40cf",
   "metadata": {},
   "outputs": [
    {
     "data": {
      "text/plain": [
       "['models/xgboost.joblib']"
      ]
     },
     "execution_count": 230,
     "metadata": {},
     "output_type": "execute_result"
    }
   ],
   "source": [
    "from joblib import dump, load\n",
    "dump(xgb_rdn.best_estimator_, 'models/xgboost.joblib')"
   ]
  },
  {
   "cell_type": "code",
   "execution_count": 131,
   "id": "bdf37d2d-598c-4098-8b43-f8c383e7f380",
   "metadata": {},
   "outputs": [
    {
     "data": {
      "text/plain": [
       "array([0.05185102, 0.01119835, 0.03868287, 0.04622889, 0.0337771 ,\n",
       "       0.04647329, 0.09357661, 0.03571002, 0.01888774, 0.05555797,\n",
       "       0.00801289, 0.00956204, 0.00716492, 0.12087467, 0.01547662,\n",
       "       0.12538147, 0.09846066, 0.01832113, 0.00970405, 0.03599975,\n",
       "       0.11909799], dtype=float32)"
      ]
     },
     "execution_count": 131,
     "metadata": {},
     "output_type": "execute_result"
    }
   ],
   "source": [
    "# Overall, there is a balanced distribution of importances. Let's resort to another algorithm which could enrich our feature selection.\n",
    "xgb_importances = xgb_rdn.best_estimator_.feature_importances_\n",
    "xgb_importances"
   ]
  },
  {
   "cell_type": "markdown",
   "id": "b8fc0a5a-32ab-4d9c-837e-4a16dde9433b",
   "metadata": {},
   "source": [
    "<h3 style='font-size:30px;font-style:italic'> Extra-Trees</h3>\n",
    "<div> \n",
    "    <ul style='font-size:20px'> \n",
    "        <li> \n",
    "            The reason for choosing Extra-Trees is its fully Stochastic functioning. At the end of the iterations, we'll have the view about the features from a boosting model and a simpler algorithm.\n",
    "        </li>\n",
    "    </ul>\n",
    "</div>"
   ]
  },
  {
   "cell_type": "code",
   "execution_count": 114,
   "id": "eaf15efb-2375-4bfd-ad56-b32fee8f5b35",
   "metadata": {},
   "outputs": [
    {
     "name": "stdout",
     "output_type": "stream",
     "text": [
      "Fitting 5 folds for each of 20 candidates, totalling 100 fits\n"
     ]
    },
    {
     "data": {
      "text/plain": [
       "RandomizedSearchCV(cv=5,\n",
       "                   estimator=ExtraTreesClassifier(bootstrap=True,\n",
       "                                                  random_state=42),\n",
       "                   n_iter=20, n_jobs=-1,\n",
       "                   param_distributions={'max_depth': [3, 4, 5],\n",
       "                                        'max_features': array([3, 4, 2, 3, 2]),\n",
       "                                        'max_samples': <scipy.stats._distn_infrastructure.rv_frozen object at 0x7f2002cb6340>},\n",
       "                   random_state=42, scoring=make_scorer(fbeta_score, beta=0.37),\n",
       "                   verbose=3)"
      ]
     },
     "execution_count": 114,
     "metadata": {},
     "output_type": "execute_result"
    }
   ],
   "source": [
    "from sklearn.ensemble import ExtraTreesClassifier\n",
    "\n",
    "param_grid = {'max_depth':[3,4,5], 'max_features':np.random.randint(low=2, high=5, size=5), \n",
    "             'max_samples':norm(loc=.35, scale=.1)}\n",
    "extra = ExtraTreesClassifier(random_state=42, bootstrap=True)\n",
    "\n",
    "extra_rdn = RandomizedSearchCV(extra, param_grid, n_iter=20, scoring=f037, cv=5, random_state=42, n_jobs=-1, verbose=3)\n",
    "extra_rdn.fit(X_train_pipe, y_train)"
   ]
  },
  {
   "cell_type": "code",
   "execution_count": 233,
   "id": "6d48cb4d-6fe1-4c9d-8ee2-d698b0111c32",
   "metadata": {},
   "outputs": [
    {
     "name": "stdout",
     "output_type": "stream",
     "text": [
      "0.9594016677893593 {'max_depth': 5, 'max_features': 4, 'max_samples': 0.30722070863966544}\n"
     ]
    },
    {
     "data": {
      "text/plain": [
       "['models/extra_trees.joblib']"
      ]
     },
     "execution_count": 233,
     "metadata": {},
     "output_type": "execute_result"
    }
   ],
   "source": [
    "# We've obtained another excellent f-.37 score!\n",
    "print(extra_rdn.best_score_, extra_rdn.best_params_)\n",
    "\n",
    "# Saving the best Extra-Trees.\n",
    "dump(extra_rdn.best_estimator_, 'models/extra_trees.joblib')"
   ]
  },
  {
   "cell_type": "code",
   "execution_count": 132,
   "id": "79d12e0c-2ce3-4dcf-b4b8-89bcf7954341",
   "metadata": {},
   "outputs": [
    {
     "data": {
      "text/plain": [
       "array([0.03870511, 0.00947104, 0.08795762, 0.0543736 , 0.02143761,\n",
       "       0.07639603, 0.06803795, 0.0501627 , 0.04232406, 0.04387204,\n",
       "       0.00231115, 0.00567828, 0.00959603, 0.07158403, 0.02426797,\n",
       "       0.08567222, 0.08104801, 0.01259547, 0.04532633, 0.05622541,\n",
       "       0.11295735])"
      ]
     },
     "execution_count": 132,
     "metadata": {},
     "output_type": "execute_result"
    }
   ],
   "source": [
    "# And for a second time, the 'feature_importances' array still presents mostly a uniform distribution of relevances.\n",
    "extra_importances = extra_rdn.best_estimator_.feature_importances_"
   ]
  },
  {
   "cell_type": "markdown",
   "id": "4ccb3103-7183-4e22-b679-51e5715e21ca",
   "metadata": {},
   "source": [
    "<h2 style='font-size:30px'> Insignificant Features Removal</h2>\n",
    "<div> \n",
    "    <ul style='font-size:20px'> \n",
    "        <li> \n",
    "            With both arrays in hands, we can use them to filter out features with low average importance. I chose to disregard the ones with less than 1% of relevance.\n",
    "        </li>\n",
    "    </ul>\n",
    "</div>"
   ]
  },
  {
   "cell_type": "code",
   "execution_count": 652,
   "id": "92969ce8-5385-450a-89c7-db7e7f2d4a90",
   "metadata": {},
   "outputs": [],
   "source": [
    "class KeepMostImportant(BaseEstimator, TransformerMixin):\n",
    "    \n",
    "    def __repr__(self):\n",
    "        return 'KeepMostImportant()'\n",
    "    \n",
    "    def __init__(self, minimum_importance:float = .01, feature_importances_:list = None):\n",
    "        # 'minimum_importance' is the minimum average importance the column needs to present.\n",
    "        self.minimum_importance = minimum_importance\n",
    "        # list of feature importances arrays.\n",
    "        self.feature_importances_ = feature_importances_\n",
    "        \n",
    "    # Fit detects the columns  which their average importance is lower than self.minimum_importance.\n",
    "    def fit(self, X, y=None):\n",
    "        self.__feature_importances_mean = np.mean(self.feature_importances_, axis=0)\n",
    "        self.__keep = np.argwhere(self.__feature_importances_mean > self.minimum_importance).reshape(1, -1).ravel()\n",
    "        return self\n",
    "    \n",
    "    # 'transform' returns the features array without the irrelevant columns.\n",
    "    def transform(self, X):\n",
    "        return X[:, self.__keep]"
   ]
  },
  {
   "cell_type": "code",
   "execution_count": 653,
   "id": "e79cd019-0be5-4403-9e24-c90d00c72762",
   "metadata": {},
   "outputs": [],
   "source": [
    "# Making a second pipe with 'pipe' and our new transformator.\n",
    "pipe2 = Pipeline([\n",
    "    ('pipe', pipe),\n",
    "    ('keep_most_important', KeepMostImportant(feature_importances_=[xgb_importances, extra_importances]))\n",
    "    ])\n",
    "\n",
    "# Removing the irrelevant columns.\n",
    "X_train_pipe2 = pipe2.fit_transform(X_train)"
   ]
  },
  {
   "cell_type": "markdown",
   "id": "304d2b11-223c-4d20-badd-dd018f697e40",
   "metadata": {},
   "source": [
    "<h2 style='font-size:30px'> K-Means Application</h2>\n",
    "<div> \n",
    "    <ul style='font-size:20px'> \n",
    "        <li> \n",
    "            With the data dimensionality fairly reduced, we can begin the use of the K-Means algorithm.\n",
    "        </li>\n",
    "    </ul>\n",
    "</div>"
   ]
  },
  {
   "cell_type": "code",
   "execution_count": 595,
   "id": "48f9cd34-a92b-47a6-97dd-3b3e58c6e8ed",
   "metadata": {},
   "outputs": [],
   "source": [
    "from sklearn.cluster import KMeans\n",
    "from sklearn.metrics import silhouette_score\n",
    "\n",
    "# We'll attempt to apply K-Means with the following numbers for 'n_clusters':\n",
    "k = [2,3,4,5]\n",
    "\n",
    "# The best configuration is the that with the highest silhouette_score.\n",
    "best_sil = -np.inf\n",
    "\n",
    "for i in k:\n",
    "    kmeans = KMeans(n_clusters=i, random_state=42)\n",
    "    # Fitting the model and measuring its silhouette score.\n",
    "    kmeans.fit(X_train_pipe2)\n",
    "    sil_score = silhouette_score(X_train_pipe2, kmeans.predict(X_train_pipe2))\n",
    "    # If its score is higher than the current 'best_sil', we update the variable's value and save the algorithm as a .joblib file. \n",
    "    if sil_score > best_sil:\n",
    "        dump(kmeans,'models/kmeans.joblib')\n",
    "        best_sil = sil_score"
   ]
  },
  {
   "cell_type": "code",
   "execution_count": 596,
   "id": "a9f0cc0a-6739-4c65-8fc7-7162e0a98cbf",
   "metadata": {},
   "outputs": [
    {
     "data": {
      "text/plain": [
       "KMeans(n_clusters=2, random_state=42)"
      ]
     },
     "execution_count": 596,
     "metadata": {},
     "output_type": "execute_result"
    }
   ],
   "source": [
    "# The best configuration was the one with n_clusters=2.\n",
    "kmeans = load('models/kmeans.joblib')\n",
    "kmeans"
   ]
  },
  {
   "cell_type": "markdown",
   "id": "4654f5cb-ea2c-434f-9cb3-1e7c5eb4d187",
   "metadata": {},
   "source": [
    "<h3 style='font-size:30px;font-style:italic'> Centroids Extraction</h3>\n",
    "<div> \n",
    "    <ul style='font-size:20px'> \n",
    "        <li> \n",
    "            It is time to identify the instances that are the closest to the K-Means clusters' centroids. Additionally, we need to remember  to analyze whether such instances pertain to different cell categories or not.\n",
    "        </li>\n",
    "    </ul>\n",
    "</div>"
   ]
  },
  {
   "cell_type": "code",
   "execution_count": 676,
   "id": "9ce7dda4-873c-4b10-aac8-d2734805506d",
   "metadata": {},
   "outputs": [],
   "source": [
    "def get_nearest_centroids_neighbors(X:'array'=None, y:'array'=None, kmeans:KMeans=None, n:int=1):\n",
    "    from sklearn.neighbors import KNeighborsClassifier\n",
    "    instances = []\n",
    "    knn = KNeighborsClassifier().fit(X,y)\n",
    "    \n",
    "    # For each cluster created, locate the n-nearest neighbors of the respective centroids and append their indices to 'instances'..\n",
    "    for i in np.unique(kmeans.labels_).astype('int'):\n",
    "        instances.extend(knn.kneighbors(kmeans.cluster_centers_[i].reshape(1, -1), n_neighbors=n, return_distance=False).ravel())\n",
    "        \n",
    "    # Returning the X and y arrays with only the data of the centroids' n-nearest neighbors.\n",
    "    return X[instances], y[instances]"
   ]
  },
  {
   "cell_type": "code",
   "execution_count": 655,
   "id": "85c94a63-add5-4818-8f75-1776ac0042ef",
   "metadata": {},
   "outputs": [
    {
     "name": "stdout",
     "output_type": "stream",
     "text": [
      "[115, 405]\n"
     ]
    }
   ],
   "source": [
    "# As initially proposed, getting the top-1 closest instances to each centroid.\n",
    "X_nn, y_nn = get_nearest_centroids_neighbors(X=X_train_pipe2,  y=y_train.values, kmeans=kmeans, n=1)"
   ]
  },
  {
   "cell_type": "code",
   "execution_count": 570,
   "id": "0b4eeada-d697-49d2-ae00-613a381d07fb",
   "metadata": {},
   "outputs": [
    {
     "data": {
      "text/plain": [
       "array([1., 0.])"
      ]
     },
     "execution_count": 570,
     "metadata": {},
     "output_type": "execute_result"
    }
   ],
   "source": [
    "# Both points are from distinct classes. Thus we are ready to build the model!\n",
    "y_nn"
   ]
  },
  {
   "cell_type": "markdown",
   "id": "d4aa442a-4096-4be7-a39e-166b3c39299c",
   "metadata": {},
   "source": [
    "<h2 style='font-size:30px'> Initial Validations</h2>\n",
    "<div> \n",
    "    <ul style='font-size:20px'> \n",
    "        <li> \n",
    "             Let's try out a handful of models and check their performances.\n",
    "        </li>\n",
    "    </ul>\n",
    "</div>"
   ]
  },
  {
   "cell_type": "markdown",
   "id": "ef92f644-3ff8-4d38-97be-9a8447e4f4ea",
   "metadata": {},
   "source": [
    "<h3 style='font-size:30px;font-style:italic'> Linear Support Vector Machine</h3>\n",
    "<div> \n",
    "    <ul style='font-size:20px'> \n",
    "        <li> \n",
    "             We hope that the hyperplane built by the Linear SVM with the two mentioned instances can satisfactorily distinguish the benign from malign cells.\n",
    "        </li>\n",
    "    </ul>\n",
    "</div>"
   ]
  },
  {
   "cell_type": "code",
   "execution_count": 658,
   "id": "cb7d36c2-4ca1-488c-afe7-04d7fa675e19",
   "metadata": {},
   "outputs": [
    {
     "data": {
      "text/plain": [
       "0.9516400232967748"
      ]
     },
     "execution_count": 658,
     "metadata": {},
     "output_type": "execute_result"
    }
   ],
   "source": [
    "from sklearn.svm import LinearSVC\n",
    "svm = LinearSVC().fit(X_nn, y_nn)\n",
    "\n",
    "# The performance obtained is impressive considering the model was fed with only two instances.\n",
    "fbeta_score(y_train, svm.predict(X_train_pipe2), beta=.37)"
   ]
  },
  {
   "cell_type": "code",
   "execution_count": 659,
   "id": "a28ace2f-5f5b-4ceb-a4f2-866ef78d751e",
   "metadata": {},
   "outputs": [
    {
     "data": {
      "text/plain": [
       "['models/svm.joblib']"
      ]
     },
     "execution_count": 659,
     "metadata": {},
     "output_type": "execute_result"
    }
   ],
   "source": [
    "# Saving the SVM model.\n",
    "dump(svm, 'models/svm.joblib')"
   ]
  },
  {
   "cell_type": "markdown",
   "id": "2e44bf3b-e58b-4cc9-9fd4-aaafbf18d296",
   "metadata": {},
   "source": [
    "<h3 style='font-size:30px;font-style:italic'> K-Nearest Neighbors</h3>\n",
    "<div> \n",
    "    <ul style='font-size:20px'> \n",
    "        <li> \n",
    "             It is expected that the majority of a class' data points will be closer to its representative instance than to the one from the other group.\n",
    "        </li>\n",
    "    </ul>\n",
    "</div>"
   ]
  },
  {
   "cell_type": "code",
   "execution_count": 660,
   "id": "2f505ce1-1e15-42eb-939d-6c522c15fe44",
   "metadata": {},
   "outputs": [
    {
     "data": {
      "text/plain": [
       "0.9088158922957635"
      ]
     },
     "execution_count": 660,
     "metadata": {},
     "output_type": "execute_result"
    }
   ],
   "source": [
    "from sklearn.neighbors import KNeighborsClassifier\n",
    "knn = KNeighborsClassifier(n_neighbors=1).fit(X_nn, y_nn)\n",
    "\n",
    "# KNN also reaches a good f.037 score.\n",
    "dump(knn, 'models/knn.joblib')\n",
    "fbeta_score(y_train, knn.predict(X_train_pipe2), beta=.37)"
   ]
  },
  {
   "cell_type": "markdown",
   "id": "f7ad217e-4fe4-4348-81e3-7ffa83379df8",
   "metadata": {},
   "source": [
    "<h3 style='font-size:30px;font-style:italic'>Random Forest</h3>\n",
    "<div> \n",
    "    <ul style='font-size:20px'> \n",
    "        <li> \n",
    "             For the scarcity of data points, I'll configure the Random Forest's trees to have a single layer and to consider only one feature.\n",
    "        </li>\n",
    "    </ul>\n",
    "</div>"
   ]
  },
  {
   "cell_type": "code",
   "execution_count": 661,
   "id": "e48fe094-d0de-4dcd-92c4-6dfa2ad96f0d",
   "metadata": {},
   "outputs": [
    {
     "data": {
      "text/plain": [
       "0.9060619439662526"
      ]
     },
     "execution_count": 661,
     "metadata": {},
     "output_type": "execute_result"
    }
   ],
   "source": [
    "from sklearn.ensemble import RandomForestClassifier\n",
    "rdn = RandomForestClassifier(n_estimators=50, max_depth=1, max_features=1, random_state=42).fit(X_nn, y_nn)\n",
    "dump(rdn, 'models/rdn.joblib')\n",
    "\n",
    "# And, for a second time, we achieve an extraordinary result!\n",
    "fbeta_score(y_train, rdn.predict(X_train_pipe2), beta=.37)"
   ]
  },
  {
   "cell_type": "markdown",
   "id": "969a49f2-5c1d-48f0-b93c-42a24d933431",
   "metadata": {},
   "source": [
    "<h2 style='font-size:30px'> Test-set Validations</h2>\n",
    "<div> \n",
    "    <ul style='font-size:20px'> \n",
    "        <li> \n",
    "             As every algorithm we tried presented an outstanding f-037 score, we are going to try all of them with the test set. \n",
    "        </li>\n",
    "    </ul>\n",
    "</div>"
   ]
  },
  {
   "cell_type": "code",
   "execution_count": 662,
   "id": "41ef6e4a-9f69-449f-a512-02d107784f80",
   "metadata": {},
   "outputs": [],
   "source": [
    "# Before any validation is made, it is important to transform the test dataset to the training format.\n",
    "X_test = test.iloc[:, :-1]\n",
    "y_test = test.iloc[:, -1]\n",
    "\n",
    "# Now applying the pipeline transformations in the 'X_test' variable.\n",
    "X_test_pipe2 = pipe2.transform(X_test)"
   ]
  },
  {
   "cell_type": "markdown",
   "id": "bf96316f-3c29-4ec6-8a50-6068a0f28fd3",
   "metadata": {},
   "source": [
    "<h3 style='font-size:30px;font-style:italic'> Linear Support Vector Machine</h3>"
   ]
  },
  {
   "cell_type": "code",
   "execution_count": 667,
   "id": "65509d83-a28c-4e7d-8292-b2610f8ced13",
   "metadata": {},
   "outputs": [
    {
     "data": {
      "text/plain": [
       "0.9490345446046117"
      ]
     },
     "execution_count": 667,
     "metadata": {},
     "output_type": "execute_result"
    }
   ],
   "source": [
    "# Again, we've reached another outstanding result with SVM.\n",
    "fbeta_score(y_test, svm.predict(X_test_pipe2), beta=.37)"
   ]
  },
  {
   "cell_type": "markdown",
   "id": "0086037c-81c1-4715-897e-945d2ec45267",
   "metadata": {},
   "source": [
    "<h3 style='font-size:30px;font-style:italic'> K-Nearest Neighbors</h3>"
   ]
  },
  {
   "cell_type": "code",
   "execution_count": 668,
   "id": "b859f9c2-398e-4d79-a18c-fdb7021ae226",
   "metadata": {},
   "outputs": [
    {
     "data": {
      "text/plain": [
       "0.9317070505640999"
      ]
     },
     "execution_count": 668,
     "metadata": {},
     "output_type": "execute_result"
    }
   ],
   "source": [
    "# KNN was able to obtain a greater f-037 score now than with the training set.\n",
    "fbeta_score(y_test, knn.predict(X_test_pipe2), beta=.37)"
   ]
  },
  {
   "cell_type": "markdown",
   "id": "232732b6-29d7-4d66-bc63-e1c5294e7cda",
   "metadata": {},
   "source": [
    "<h3 style='font-size:30px;font-style:italic'>Random Forest</h3>"
   ]
  },
  {
   "cell_type": "code",
   "execution_count": 670,
   "id": "ddc841a7-1715-46fc-b418-ee4270083315",
   "metadata": {},
   "outputs": [
    {
     "data": {
      "text/plain": [
       "0.9424339832920392"
      ]
     },
     "execution_count": 670,
     "metadata": {},
     "output_type": "execute_result"
    }
   ],
   "source": [
    "# So all of our algorithms were capable to have great f-037 values!\n",
    "fbeta_score(y_test, rdn.predict(X_test_pipe2), beta=.37)"
   ]
  },
  {
   "cell_type": "markdown",
   "id": "a926a569-8d82-459e-989b-07693a4ca5b0",
   "metadata": {},
   "source": [
    "<h2 style='font-size:30px'> Prediction Quality Chart</h2>\n",
    "<div> \n",
    "    <ul style='font-size:20px'> \n",
    "        <li> \n",
    "             Here, I'll plot a chart exposing how well the Support Vector Machine would be if we extracted a higher quantity of instances from each K-Means cluster.\n",
    "        </li>\n",
    "    </ul>\n",
    "</div>"
   ]
  },
  {
   "cell_type": "code",
   "execution_count": 723,
   "id": "88497b6e-1c33-4f59-91ee-1707aed146f1",
   "metadata": {},
   "outputs": [],
   "source": [
    "# Lists in which the scores and the amount of neighbors are placed.\n",
    "train_scores = []\n",
    "test_scores = []\n",
    "n_neighbors = []\n",
    "\n",
    "for i in range(1, 11):\n",
    "    # Getting the i nearest data points from each K-Means centroid.\n",
    "    X_nnlc, y_nnlc = get_nearest_centroids_neighbors(X_train_pipe2, y_train.values, kmeans, i)\n",
    "    \n",
    "    # Training a Support Vector Machine and storing its training and test scores in both lists.\n",
    "    svm_lc = LinearSVC().fit(X_nnlc, y_nnlc)\n",
    "    train_scores.append(fbeta_score(y_train ,svm_lc.predict(X_train_pipe2), beta=.37))\n",
    "    test_scores.append(fbeta_score(y_test ,svm_lc.predict(X_test_pipe2), beta=.37))\n",
    "    n_neighbors.append(i)"
   ]
  },
  {
   "cell_type": "code",
   "execution_count": 728,
   "id": "6d7af2da-b458-4124-9016-c2ea23e8a33b",
   "metadata": {},
   "outputs": [],
   "source": [
    "# Creating and manipulating lists in order to facilitate the chart's construction.\n",
    "phase = ['Training' for i in range(10)]\n",
    "phase.extend(['Test' for i in range(10)])\n",
    "\n",
    "scores = train_scores.copy()\n",
    "scores.extend(test_scores)\n",
    "\n",
    "n_neighbors.extend(n_neighbors)"
   ]
  },
  {
   "cell_type": "code",
   "execution_count": 813,
   "id": "09dbc20f-c188-4a2d-9dde-0ba61c5c4623",
   "metadata": {},
   "outputs": [
    {
     "data": {
      "text/plain": [
       "<matplotlib.legend.Legend at 0x7f1fde5e5e20>"
      ]
     },
     "execution_count": 813,
     "metadata": {},
     "output_type": "execute_result"
    },
    {
     "data": {
      "image/png": "[encoded data removed]",
      "text/plain": [
       "<Figure size 720x360 with 1 Axes>"
      ]
     },
     "metadata": {
      "needs_background": "light"
     },
     "output_type": "display_data"
    }
   ],
   "source": [
    "# 'f37df' holds the performance data from the SVM. \n",
    "f37df = pd.DataFrame({'Phase':phase, 'F-037':scores, 'N-Neighbors':n_neighbors})\n",
    "\n",
    "plt.figure(figsize=(10,5))\n",
    "plt.ylim([.92, .96])\n",
    "\n",
    "# Plotting the model's f-037 scores.\n",
    "ax = sns.barplot(data=f37df, x='N-Neighbors', y='F-037', hue='Phase')\n",
    "\n",
    "plt.title('F-037 Score per Cluster\\'s n-Nearest Neighbors', fontdict={'family':'times', 'weight':'bold'})\n",
    "plt.xlabel(None)\n",
    "\n",
    "# Writing the scores values in the bars' body.\n",
    "for i, score in enumerate(train_scores):\n",
    "    plt.text(i-.25, score-.008, f'{score:.2%}', fontdict={'rotation':'vertical', 'fontweight':'bold', 'color':'white'})\n",
    "    \n",
    "for i, score in enumerate(test_scores):\n",
    "    plt.text(i+.18, score-.008, f'{score:.2%}', fontdict={'rotation':'vertical', 'fontweight':'bold', 'color':'k'})\n",
    "\n",
    "# Additional aesthetic settings.\n",
    "ax.get_yaxis().set_visible(False)\n",
    "\n",
    "for p in ['top', 'bottom', 'right', 'left']:\n",
    "    ax.spines[p].set_visible(False)\n",
    "\n",
    "plt.legend(frameon=False, ncol=2)"
   ]
  },
  {
   "cell_type": "markdown",
   "id": "436e1e00-fb93-4026-bd9c-3d0814200cad",
   "metadata": {},
   "source": [
    "<h2 style='font-size:30px'> Final Considerations</h2>\n",
    "<div> \n",
    "    <ul style='font-size:20px'> \n",
    "        <li> \n",
    "             We were able to obtain fascinating results with our models. I believe that the most important lesson we can take from this project is the fact that data volume might not always be an essential resource for our applications. What actually must be done is offering instances which highly represent its classes' counterparts and avoiding the presence of any outlier in our dataset.  \n",
    "        </li>\n",
    "        <li> \n",
    "            I hope this project could somehow inspire new ideas for your next Machine Learning system. You can reach me on my <a href='https://medium.com/@felipesveiga'> Medium</a> and <a href='https://www.linkedin.com/in/felipe-veiga-9a59501bb/'> LinkedIn</a> accounts and check out my posts. \n",
    "        </li>\n",
    "    </ul>\n",
    "</div>"
   ]
  }
 ],
 "metadata": {
  "kernelspec": {
   "display_name": "Python 3 (ipykernel)",
   "language": "python",
   "name": "python3"
  },
  "language_info": {
   "codemirror_mode": {
    "name": "ipython",
    "version": 3
   },
   "file_extension": ".py",
   "mimetype": "text/x-python",
   "name": "python",
   "nbconvert_exporter": "python",
   "pygments_lexer": "ipython3",
   "version": "3.8.10"
  }
 },
 "nbformat": 4,
 "nbformat_minor": 5
}
